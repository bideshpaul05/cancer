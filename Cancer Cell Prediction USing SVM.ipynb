{
 "cells": [
  {
   "cell_type": "code",
   "execution_count": 1,
   "id": "8119ed2e",
   "metadata": {},
   "outputs": [],
   "source": [
    "import sklearn"
   ]
  },
  {
   "cell_type": "code",
   "execution_count": 2,
   "id": "32d96f6b",
   "metadata": {},
   "outputs": [],
   "source": [
    "from sklearn import datasets"
   ]
  },
  {
   "cell_type": "code",
   "execution_count": 3,
   "id": "7b8a7693",
   "metadata": {},
   "outputs": [],
   "source": [
    "from sklearn import svm\n",
    "from sklearn import metrics"
   ]
  },
  {
   "cell_type": "code",
   "execution_count": 4,
   "id": "6475ed93",
   "metadata": {},
   "outputs": [],
   "source": [
    "cancer=datasets.load_breast_cancer()"
   ]
  },
  {
   "cell_type": "code",
   "execution_count": 5,
   "id": "23ed27a9",
   "metadata": {},
   "outputs": [
    {
     "name": "stdout",
     "output_type": "stream",
     "text": [
      "['mean radius' 'mean texture' 'mean perimeter' 'mean area'\n",
      " 'mean smoothness' 'mean compactness' 'mean concavity'\n",
      " 'mean concave points' 'mean symmetry' 'mean fractal dimension'\n",
      " 'radius error' 'texture error' 'perimeter error' 'area error'\n",
      " 'smoothness error' 'compactness error' 'concavity error'\n",
      " 'concave points error' 'symmetry error' 'fractal dimension error'\n",
      " 'worst radius' 'worst texture' 'worst perimeter' 'worst area'\n",
      " 'worst smoothness' 'worst compactness' 'worst concavity'\n",
      " 'worst concave points' 'worst symmetry' 'worst fractal dimension']\n"
     ]
    }
   ],
   "source": [
    "print(cancer.feature_names)"
   ]
  },
  {
   "cell_type": "code",
   "execution_count": 6,
   "id": "8646eacb",
   "metadata": {},
   "outputs": [
    {
     "name": "stdout",
     "output_type": "stream",
     "text": [
      "['malignant' 'benign']\n"
     ]
    }
   ],
   "source": [
    "print(cancer.target_names)"
   ]
  },
  {
   "cell_type": "code",
   "execution_count": 7,
   "id": "c5662132",
   "metadata": {},
   "outputs": [],
   "source": [
    "x=cancer.data"
   ]
  },
  {
   "cell_type": "code",
   "execution_count": 8,
   "id": "880d53fe",
   "metadata": {},
   "outputs": [],
   "source": [
    "y=cancer.target"
   ]
  },
  {
   "cell_type": "code",
   "execution_count": 9,
   "id": "a888193a",
   "metadata": {},
   "outputs": [],
   "source": [
    "x_train,x_test,y_train,y_test = sklearn.model_selection.train_test_split(x,y,test_size=0.2)"
   ]
  },
  {
   "cell_type": "code",
   "execution_count": 10,
   "id": "ecc478e8",
   "metadata": {},
   "outputs": [
    {
     "name": "stdout",
     "output_type": "stream",
     "text": [
      "[[1.486e+01 2.321e+01 1.004e+02 ... 1.727e-01 3.000e-01 8.701e-02]\n",
      " [1.281e+01 1.306e+01 8.129e+01 ... 3.990e-02 1.783e-01 7.319e-02]\n",
      " [1.120e+01 2.937e+01 7.067e+01 ... 0.000e+00 1.566e-01 5.905e-02]\n",
      " ...\n",
      " [1.510e+01 1.639e+01 9.958e+01 ... 1.423e-01 2.590e-01 7.779e-02]\n",
      " [1.356e+01 1.390e+01 8.859e+01 ... 9.090e-02 3.065e-01 8.177e-02]\n",
      " [1.369e+01 1.607e+01 8.784e+01 ... 6.987e-02 3.323e-01 7.701e-02]] [0 1 1 0 1 1 1 1 1 1 0 1 0 0 0 1 1 1 0 1 1 0 1 0 0 1 1 0 1 1 1 0 1 1 1 0 1\n",
      " 0 1 1 0 0 1 1 0 0 0 1 1 0 0 0 1 1 1 1 0 1 1 1 1 0 0 0 1 1 1 1 1 1 1 1 0 1\n",
      " 0 0 0 1 1 0 0 1 0 0 0 0 0 0 0 0 1 1 1 0 1 1 1 1 0 0 1 1 0 1 1 0 1 1 1 0 0\n",
      " 1 1 1 1 1 0 1 1 0 1 0 0 1 1 0 1 1 1 1 0 0 0 1 1 1 0 0 1 0 1 1 0 1 1 1 1 1\n",
      " 1 1 0 0 1 0 0 0 1 1 1 0 1 1 1 1 1 1 0 0 0 1 1 1 0 1 0 1 1 1 1 0 1 1 1 0 0\n",
      " 1 0 1 1 1 1 1 1 1 1 1 0 0 1 1 1 0 0 0 0 1 1 1 1 1 0 1 1 0 1 1 1 0 1 1 0 0\n",
      " 1 1 1 1 0 1 0 1 1 1 0 0 0 0 1 1 1 1 0 1 1 0 1 0 0 0 0 0 0 1 0 1 0 1 1 1 0\n",
      " 0 0 1 1 1 0 1 0 0 0 1 0 0 0 1 1 0 1 0 1 1 1 0 1 1 1 1 1 1 1 1 1 1 0 0 1 1\n",
      " 1 1 0 0 1 0 1 0 1 1 1 1 1 0 1 0 0 0 1 1 1 0 1 1 1 0 1 0 0 0 0 1 1 1 1 0 0\n",
      " 0 1 1 0 0 0 1 1 1 0 1 1 1 0 1 1 0 0 1 0 0 1 0 0 0 1 0 1 1 1 1 1 1 0 0 0 0\n",
      " 0 1 1 0 0 1 1 1 1 1 1 0 1 0 1 0 0 0 0 0 1 0 1 1 0 1 1 1 0 1 1 1 0 1 1 0 1\n",
      " 1 1 0 1 0 1 1 0 0 1 1 1 1 1 0 1 1 0 0 1 1 1 1 1 1 1 1 1 1 0 1 1 1 1 0 1 1\n",
      " 1 1 1 0 0 1 1 1 1 1 1]\n"
     ]
    }
   ],
   "source": [
    "print(x_train,y_train)"
   ]
  },
  {
   "cell_type": "code",
   "execution_count": 11,
   "id": "d2984037",
   "metadata": {},
   "outputs": [],
   "source": [
    "classes= ['malignent','beningn']"
   ]
  },
  {
   "cell_type": "code",
   "execution_count": 12,
   "id": "3b55b1e5",
   "metadata": {},
   "outputs": [],
   "source": [
    "clf = svm.SVC(kernel=\"linear\")\n"
   ]
  },
  {
   "cell_type": "code",
   "execution_count": 13,
   "id": "b4a02b10",
   "metadata": {},
   "outputs": [
    {
     "data": {
      "text/plain": [
       "SVC(kernel='linear')"
      ]
     },
     "execution_count": 13,
     "metadata": {},
     "output_type": "execute_result"
    }
   ],
   "source": [
    "clf.fit(x_train,y_train)"
   ]
  },
  {
   "cell_type": "code",
   "execution_count": 14,
   "id": "9bf25a8e",
   "metadata": {},
   "outputs": [],
   "source": [
    "predict = clf.predict(x_test)\n"
   ]
  },
  {
   "cell_type": "code",
   "execution_count": 15,
   "id": "33481ad7",
   "metadata": {},
   "outputs": [],
   "source": [
    "acc = metrics.accuracy_score(y_test,predict)"
   ]
  },
  {
   "cell_type": "code",
   "execution_count": 16,
   "id": "befc611a",
   "metadata": {},
   "outputs": [
    {
     "name": "stdout",
     "output_type": "stream",
     "text": [
      "0.956140350877193\n"
     ]
    }
   ],
   "source": [
    "print(acc)"
   ]
  },
  {
   "cell_type": "code",
   "execution_count": 17,
   "id": "29450110",
   "metadata": {},
   "outputs": [
    {
     "name": "stdout",
     "output_type": "stream",
     "text": [
      "predicted data:  beningn     actual data:    beningn\n",
      "predicted data:  beningn     actual data:    beningn\n",
      "predicted data:  malignent     actual data:    malignent\n",
      "predicted data:  beningn     actual data:    malignent\n",
      "predicted data:  beningn     actual data:    beningn\n",
      "predicted data:  beningn     actual data:    beningn\n",
      "predicted data:  beningn     actual data:    beningn\n",
      "predicted data:  malignent     actual data:    malignent\n",
      "predicted data:  beningn     actual data:    beningn\n",
      "predicted data:  malignent     actual data:    malignent\n",
      "predicted data:  beningn     actual data:    beningn\n",
      "predicted data:  beningn     actual data:    beningn\n",
      "predicted data:  beningn     actual data:    malignent\n",
      "predicted data:  malignent     actual data:    malignent\n",
      "predicted data:  beningn     actual data:    beningn\n",
      "predicted data:  beningn     actual data:    beningn\n",
      "predicted data:  beningn     actual data:    beningn\n",
      "predicted data:  malignent     actual data:    malignent\n",
      "predicted data:  beningn     actual data:    beningn\n",
      "predicted data:  beningn     actual data:    beningn\n",
      "predicted data:  beningn     actual data:    beningn\n",
      "predicted data:  beningn     actual data:    beningn\n",
      "predicted data:  beningn     actual data:    beningn\n",
      "predicted data:  malignent     actual data:    malignent\n",
      "predicted data:  beningn     actual data:    beningn\n",
      "predicted data:  beningn     actual data:    beningn\n",
      "predicted data:  beningn     actual data:    malignent\n",
      "predicted data:  beningn     actual data:    beningn\n",
      "predicted data:  beningn     actual data:    beningn\n",
      "predicted data:  beningn     actual data:    beningn\n",
      "predicted data:  malignent     actual data:    malignent\n",
      "predicted data:  malignent     actual data:    malignent\n",
      "predicted data:  malignent     actual data:    malignent\n",
      "predicted data:  malignent     actual data:    malignent\n",
      "predicted data:  beningn     actual data:    beningn\n",
      "predicted data:  malignent     actual data:    malignent\n",
      "predicted data:  malignent     actual data:    malignent\n",
      "predicted data:  beningn     actual data:    beningn\n",
      "predicted data:  malignent     actual data:    malignent\n",
      "predicted data:  beningn     actual data:    malignent\n",
      "predicted data:  beningn     actual data:    beningn\n",
      "predicted data:  malignent     actual data:    malignent\n",
      "predicted data:  beningn     actual data:    beningn\n",
      "predicted data:  malignent     actual data:    malignent\n",
      "predicted data:  malignent     actual data:    malignent\n",
      "predicted data:  beningn     actual data:    beningn\n",
      "predicted data:  beningn     actual data:    beningn\n",
      "predicted data:  malignent     actual data:    malignent\n",
      "predicted data:  beningn     actual data:    beningn\n",
      "predicted data:  beningn     actual data:    beningn\n",
      "predicted data:  beningn     actual data:    beningn\n",
      "predicted data:  beningn     actual data:    beningn\n",
      "predicted data:  beningn     actual data:    beningn\n",
      "predicted data:  beningn     actual data:    beningn\n",
      "predicted data:  beningn     actual data:    beningn\n",
      "predicted data:  beningn     actual data:    beningn\n",
      "predicted data:  malignent     actual data:    malignent\n",
      "predicted data:  beningn     actual data:    beningn\n",
      "predicted data:  malignent     actual data:    beningn\n",
      "predicted data:  malignent     actual data:    malignent\n",
      "predicted data:  beningn     actual data:    beningn\n",
      "predicted data:  beningn     actual data:    beningn\n",
      "predicted data:  beningn     actual data:    beningn\n",
      "predicted data:  beningn     actual data:    beningn\n",
      "predicted data:  beningn     actual data:    beningn\n",
      "predicted data:  beningn     actual data:    beningn\n",
      "predicted data:  beningn     actual data:    beningn\n",
      "predicted data:  beningn     actual data:    beningn\n",
      "predicted data:  malignent     actual data:    malignent\n",
      "predicted data:  beningn     actual data:    beningn\n",
      "predicted data:  malignent     actual data:    malignent\n",
      "predicted data:  beningn     actual data:    beningn\n",
      "predicted data:  malignent     actual data:    malignent\n",
      "predicted data:  malignent     actual data:    malignent\n",
      "predicted data:  beningn     actual data:    beningn\n",
      "predicted data:  beningn     actual data:    beningn\n",
      "predicted data:  malignent     actual data:    malignent\n",
      "predicted data:  malignent     actual data:    malignent\n",
      "predicted data:  malignent     actual data:    malignent\n",
      "predicted data:  beningn     actual data:    beningn\n",
      "predicted data:  malignent     actual data:    malignent\n",
      "predicted data:  beningn     actual data:    beningn\n",
      "predicted data:  beningn     actual data:    beningn\n",
      "predicted data:  beningn     actual data:    beningn\n",
      "predicted data:  beningn     actual data:    beningn\n",
      "predicted data:  beningn     actual data:    beningn\n",
      "predicted data:  beningn     actual data:    beningn\n",
      "predicted data:  beningn     actual data:    beningn\n",
      "predicted data:  beningn     actual data:    beningn\n",
      "predicted data:  beningn     actual data:    beningn\n",
      "predicted data:  beningn     actual data:    beningn\n",
      "predicted data:  beningn     actual data:    beningn\n",
      "predicted data:  malignent     actual data:    malignent\n",
      "predicted data:  beningn     actual data:    beningn\n",
      "predicted data:  beningn     actual data:    beningn\n",
      "predicted data:  beningn     actual data:    beningn\n",
      "predicted data:  beningn     actual data:    beningn\n",
      "predicted data:  beningn     actual data:    beningn\n",
      "predicted data:  beningn     actual data:    beningn\n",
      "predicted data:  malignent     actual data:    malignent\n",
      "predicted data:  malignent     actual data:    malignent\n",
      "predicted data:  beningn     actual data:    beningn\n",
      "predicted data:  beningn     actual data:    beningn\n",
      "predicted data:  beningn     actual data:    beningn\n",
      "predicted data:  malignent     actual data:    malignent\n",
      "predicted data:  beningn     actual data:    beningn\n",
      "predicted data:  beningn     actual data:    beningn\n",
      "predicted data:  beningn     actual data:    beningn\n",
      "predicted data:  malignent     actual data:    malignent\n",
      "predicted data:  beningn     actual data:    beningn\n",
      "predicted data:  beningn     actual data:    beningn\n",
      "predicted data:  beningn     actual data:    beningn\n",
      "predicted data:  beningn     actual data:    beningn\n",
      "predicted data:  beningn     actual data:    beningn\n"
     ]
    }
   ],
   "source": [
    "for i in range(len(x_test)):\n",
    "    print(\"predicted data: \",classes[predict[i]],\"    actual data:   \",classes[y_test[i]])\n",
    "    \n",
    "    \n",
    "    "
   ]
  },
  {
   "cell_type": "code",
   "execution_count": null,
   "id": "ce87e723",
   "metadata": {},
   "outputs": [],
   "source": []
  },
  {
   "cell_type": "code",
   "execution_count": null,
   "id": "8df0b7f2",
   "metadata": {},
   "outputs": [],
   "source": []
  }
 ],
 "metadata": {
  "kernelspec": {
   "display_name": "Python 3 (ipykernel)",
   "language": "python",
   "name": "python3"
  },
  "language_info": {
   "codemirror_mode": {
    "name": "ipython",
    "version": 3
   },
   "file_extension": ".py",
   "mimetype": "text/x-python",
   "name": "python",
   "nbconvert_exporter": "python",
   "pygments_lexer": "ipython3",
   "version": "3.9.7"
  }
 },
 "nbformat": 4,
 "nbformat_minor": 5
}
